{
 "cells": [
  {
   "cell_type": "markdown",
   "metadata": {},
   "source": [
    "# Exploring Hacker News Posts\n",
    "\n",
    "In this project, we'll compare two different types of posts from Hacker News, a popular site where technology related stories (or 'posts') are voted and commented upon. The two types of posts we'll explore begin with either Ask HN or Show HN.\n",
    "\n",
    "Users submit Ask HN posts to ask the Hacker News community a specific question, such as \"What is the best online course you've ever taken?\" Likewise, users submit Show HN posts to show the Hacker News community a project, product, or just generally something interesting.\n",
    "\n",
    "We'll specifically compare these two types of posts to determine the following:\n",
    "\n",
    "- Do `Ask HN` or `Show HN` receive more comments on average?\n",
    "- Do posts created at a certain time receive more comments on average?\n",
    "\n",
    "It should be noted that the data set we're working with was reduced from almost 300,000 rows to approximately 20,000 rows by removing all submissions that did not receive any comments, and then randomly sampling from the remaining submissions."
   ]
  },
  {
   "cell_type": "code",
   "execution_count": 1,
   "metadata": {},
   "outputs": [
    {
     "name": "stdout",
     "output_type": "stream",
     "text": [
      "['id', 'title', 'url', 'num_points', 'num_comments', 'author', 'created_at']\n",
      "\n",
      "\n",
      "[['12224879', 'Interactive Dynamic Video', 'http://www.interactivedynamicvideo.com/', '386', '52', 'ne0phyte', '8/4/2016 11:52'], ['10975351', 'How to Use Open Source and Shut the Fuck Up at the Same Time', 'http://hueniverse.com/2016/01/26/how-to-use-open-source-and-shut-the-fuck-up-at-the-same-time/', '39', '10', 'josep2', '1/26/2016 19:30'], ['11964716', \"Florida DJs May Face Felony for April Fools' Water Joke\", 'http://www.thewire.com/entertainment/2013/04/florida-djs-april-fools-water-joke/63798/', '2', '1', 'vezycash', '6/23/2016 22:20'], ['11919867', 'Technology ventures: From Idea to Enterprise', 'https://www.amazon.com/Technology-Ventures-Enterprise-Thomas-Byers/dp/0073523429', '3', '1', 'hswarna', '6/17/2016 0:01'], ['10301696', 'Note by Note: The Making of Steinway L1037 (2007)', 'http://www.nytimes.com/2007/11/07/movies/07stein.html?_r=0', '8', '2', 'walterbell', '9/30/2015 4:12']]\n"
     ]
    }
   ],
   "source": [
    "from csv import reader\n",
    "import datetime as dt\n",
    "\n",
    "opened_file = open('hacker_news.csv')\n",
    "read_file = reader(opened_file)\n",
    "hn = list(read_file)\n",
    "header = hn[0]\n",
    "hn = hn[1:]\n",
    "print(header)\n",
    "print('\\n')\n",
    "print(hn[:5])"
   ]
  },
  {
   "cell_type": "markdown",
   "metadata": {},
   "source": [
    "## Ask HN and Show HN Posts\n",
    "\n",
    "After Isolating `Ask HN` and `Show HN` post, we can see the number of post per type below.\n",
    "\n",
    "- Number of Ask Now Posts: 1744\n",
    "- Number Show Now Posts: 1162\n",
    "- Number of Other Posts: 17194"
   ]
  },
  {
   "cell_type": "code",
   "execution_count": 27,
   "metadata": {
    "scrolled": true
   },
   "outputs": [
    {
     "name": "stdout",
     "output_type": "stream",
     "text": [
      "Number of Ask Now Posts: 1744\n",
      "Number Show Now Posts: 1162\n",
      "Number of Other Posts: 17194\n"
     ]
    }
   ],
   "source": [
    "ask_posts = []\n",
    "show_posts = []\n",
    "other_posts = []\n",
    "\n",
    "for row in hn:\n",
    "    title = row[1]\n",
    "    if title.lower().startswith('ask hn'):\n",
    "        ask_posts.append(row)\n",
    "    elif title.lower().startswith('show hn'):\n",
    "        show_posts.append(row)\n",
    "    else:\n",
    "        other_posts.append(row)\n",
    "        \n",
    "print('Number of Ask Now Posts: {}'.format(len(ask_posts)))\n",
    "print('Number Show Now Posts: {}'.format(len(show_posts)))\n",
    "print('Number of Other Posts: {}'.format(len(other_posts)))"
   ]
  },
  {
   "cell_type": "markdown",
   "metadata": {},
   "source": [
    "## Do Ask HN or Show HN receive more comments on average?\n",
    "\n",
    "We can see below that 'Ask HN' posts received on average 14.04 comments whilst 'Show HN' post received on average 10.31.\n",
    "\n",
    "Our intial investigation shows that an 'Ask HN'posts create more engagment with the user of the site that \"Show HN'.\n",
    "\n",
    "This makes sense as an 'Ask HN' post, directly asks the user to post a comment in relation to a question that has been asked, whereas the 'Show HN' only posts something for the users of the sight and does not ask for any diret engagement."
   ]
  },
  {
   "cell_type": "code",
   "execution_count": 3,
   "metadata": {},
   "outputs": [
    {
     "name": "stdout",
     "output_type": "stream",
     "text": [
      "Average Number of Comments per Ask HN post: 14.038417431192661\n",
      "Average Number of Comments per Show HN post: 10.31669535283993\n"
     ]
    }
   ],
   "source": [
    "total_ask_comments = 0\n",
    "\n",
    "for row in ask_posts:\n",
    "    total_ask_comments+=int(row[4])\n",
    "    \n",
    "avg_ask_comments = total_ask_comments/len(ask_posts)\n",
    "\n",
    "\n",
    "total_show_comments = 0\n",
    "\n",
    "for row in show_posts:\n",
    "    total_show_comments+=int(row[4])\n",
    "    \n",
    "avg_show_comments = total_show_comments/len(show_posts)\n",
    "\n",
    "print('Average Number of Comments per Ask HN post: {}'.format(avg_ask_comments))\n",
    "print('Average Number of Comments per Show HN post: {}'.format(avg_show_comments))"
   ]
  },
  {
   "cell_type": "markdown",
   "metadata": {},
   "source": [
    "## Investigating the Number of and the number Average of post by Hour\n",
    "\n",
    "So we can ascertain the hour of day an article is most likely to get comments we'll calculate the number of post every hour, number of comments every hour and the average number of posts per hour."
   ]
  },
  {
   "cell_type": "code",
   "execution_count": 12,
   "metadata": {},
   "outputs": [
    {
     "name": "stdout",
     "output_type": "stream",
     "text": [
      "{'15': 116, '19': 110, '21': 109, '18': 109, '16': 108, '14': 107, '17': 100, '13': 85, '20': 80, '12': 73, '22': 71, '23': 68, '01': 60, '10': 59, '02': 58, '11': 58, '00': 55, '03': 54, '08': 48, '04': 47, '05': 46, '09': 45, '06': 44, '07': 34}\n",
      "\n",
      "\n",
      "{'15': 4477, '16': 1814, '21': 1745, '20': 1722, '18': 1439, '14': 1416, '02': 1381, '13': 1253, '19': 1188, '17': 1146, '10': 793, '12': 687, '01': 683, '11': 641, '23': 543, '08': 492, '22': 479, '05': 464, '00': 447, '03': 421, '06': 397, '04': 337, '07': 267, '09': 251}\n",
      "\n",
      "\n",
      "{'15': 38.59, '02': 23.81, '20': 21.52, '16': 16.8, '21': 16.01, '13': 14.74, '10': 13.44, '14': 13.23, '18': 13.2, '17': 11.46, '01': 11.38, '11': 11.05, '19': 10.8, '08': 10.25, '05': 10.09, '12': 9.41, '06': 9.02, '00': 8.13, '23': 7.99, '07': 7.85, '03': 7.8, '04': 7.17, '22': 6.75, '09': 5.58}\n"
     ]
    }
   ],
   "source": [
    "counts_by_hour = {}\n",
    "comments_by_hour = {}\n",
    "average_comments_by_hour = {}\n",
    "\n",
    "for row in ask_posts:\n",
    "    created_at = dt.datetime.strptime(row[6],\"%m/%d/%Y %H:%M\")\n",
    "    hour_str = created_at.strftime(\"%H\")\n",
    "    num_comments = row[4]\n",
    "    if hour_str not in counts_by_hour:\n",
    "        counts_by_hour[hour_str]=1\n",
    "        comments_by_hour[hour_str]=int(num_comments)\n",
    "    else:\n",
    "        counts_by_hour[hour_str]+=1\n",
    "        comments_by_hour[hour_str]+=int(num_comments)\n",
    "\n",
    "counts_by_hour = {k:v for k, v in sorted(counts_by_hour.items(), key=lambda item: item[1],reverse=True)}\n",
    "comments_by_hour = {k:v for k, v in sorted(comments_by_hour.items(), key=lambda item: item[1],reverse=True)}\n",
    "\n",
    "for k, v in counts_by_hour.items():\n",
    "    average = comments_by_hour[k]/v\n",
    "    average_comments_by_hour[k]=average\n",
    "\n",
    "average_comments_by_hour = {k:v for k, v in sorted(average_comments_by_hour.items(), key=lambda item: item[1],reverse=True)}\n",
    "    \n",
    "\n",
    "print(counts_by_hour)\n",
    "print('\\n')\n",
    "print(comments_by_hour)\n",
    "print('\\n')\n",
    "print(average_comments_by_hour)"
   ]
  },
  {
   "cell_type": "markdown",
   "metadata": {},
   "source": [
    "Here we have created a function to make the average time more readable and allow us to create top list of hours."
   ]
  },
  {
   "cell_type": "code",
   "execution_count": 31,
   "metadata": {},
   "outputs": [],
   "source": [
    "def print_top_num_dict(num_of_list):\n",
    "    check = 0\n",
    "    print(\"Top {} Hours for 'Ask HN' comments\".format(num_of_list))\n",
    "    print(\"\\n\")\n",
    "    for k,v in average_comments_by_hour.items():\n",
    "        if check > num_of_list:\n",
    "            break\n",
    "        else:\n",
    "            hour_format = dt.datetime.strptime(k,'%H')\n",
    "            hour_format = hour_format.strftime(\"%H:%M\")\n",
    "            print('Articles posted at {} Eastern time US have an average of {:.2f} comments per post'.format(hour_format,v))\n",
    "            check+=1"
   ]
  },
  {
   "cell_type": "code",
   "execution_count": 32,
   "metadata": {},
   "outputs": [
    {
     "name": "stdout",
     "output_type": "stream",
     "text": [
      "Top 5 Hours for 'Ask HN' comments\n",
      "\n",
      "\n",
      "Articles posted at 15:00 Eastern time US have an average of 38.59 comments per post\n",
      "Articles posted at 02:00 Eastern time US have an average of 23.81 comments per post\n",
      "Articles posted at 20:00 Eastern time US have an average of 21.52 comments per post\n",
      "Articles posted at 16:00 Eastern time US have an average of 16.80 comments per post\n",
      "Articles posted at 21:00 Eastern time US have an average of 16.01 comments per post\n",
      "Articles posted at 13:00 Eastern time US have an average of 14.74 comments per post\n"
     ]
    }
   ],
   "source": [
    "print_top_num_dict(5)"
   ]
  },
  {
   "cell_type": "markdown",
   "metadata": {},
   "source": [
    "## Conclusion\n",
    "\n",
    "From our analysis we can see that between the hours of 15:00 - 16:00 US Eastern is when the post recveive most comments with an average of 38.59 average comments per post. This is significantly higher (61.69%) than our next time of 02:00 - 03:00 which received 23.81 average comments per post.\n",
    "\n",
    "This may higlight a optimum time to post 'Ask HN' articles. As a we caveat, we must take into account that this data only analyses post that have received comments and excludes any that haven't, meaning that 'Ask HN' posts that received comments tend to receive a higher amount of comments when posted bewtween the hours of 15:00 - 16:00."
   ]
  }
 ],
 "metadata": {
  "kernelspec": {
   "display_name": "Python 3.8",
   "language": "python",
   "name": "py3.8"
  },
  "language_info": {
   "codemirror_mode": {
    "name": "ipython",
    "version": 3
   },
   "file_extension": ".py",
   "mimetype": "text/x-python",
   "name": "python",
   "nbconvert_exporter": "python",
   "pygments_lexer": "ipython3",
   "version": "3.6.10"
  }
 },
 "nbformat": 4,
 "nbformat_minor": 4
}
